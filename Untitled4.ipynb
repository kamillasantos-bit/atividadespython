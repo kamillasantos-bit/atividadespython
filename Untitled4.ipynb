{
  "nbformat": 4,
  "nbformat_minor": 0,
  "metadata": {
    "colab": {
      "provenance": [],
      "authorship_tag": "ABX9TyNUXcNfNPSsvVle8sBdKsMl",
      "include_colab_link": true
    },
    "kernelspec": {
      "name": "python3",
      "display_name": "Python 3"
    },
    "language_info": {
      "name": "python"
    }
  },
  "cells": [
    {
      "cell_type": "markdown",
      "metadata": {
        "id": "view-in-github",
        "colab_type": "text"
      },
      "source": [
        "<a href=\"https://colab.research.google.com/github/kamillasantos-bit/atividadespython/blob/main/Untitled4.ipynb\" target=\"_parent\"><img src=\"https://colab.research.google.com/assets/colab-badge.svg\" alt=\"Open In Colab\"/></a>"
      ]
    },
    {
      "cell_type": "code",
      "execution_count": 2,
      "metadata": {
        "colab": {
          "base_uri": "https://localhost:8080/"
        },
        "id": "jqTYFLuqmM9a",
        "outputId": "57fa3c7c-b6ef-4ed1-fe15-714f9a92a153"
      },
      "outputs": [
        {
          "output_type": "stream",
          "name": "stdout",
          "text": [
            "Olá, bem vindo ao curso de Python!\n"
          ]
        }
      ],
      "source": [
        "def saudacao () :\n",
        "  print (\"Olá, bem vindo ao curso de Python!\")\n",
        "\n",
        "saudacao ()"
      ]
    },
    {
      "cell_type": "code",
      "source": [
        "def IMC():\n",
        "    altura = float(input(\"Digite sua altura:\"))\n",
        "    peso = float(input(\"Digite seu peso;\"))\n",
        "    imc = peso/altura ** 2\n",
        "    print(f\"Seu IMC é; {imc}\")\n",
        "\n",
        "IMC()\n"
      ],
      "metadata": {
        "colab": {
          "base_uri": "https://localhost:8080/"
        },
        "id": "SzqBNCuTrbHt",
        "outputId": "7c6b95fb-add7-41b2-a1c6-6b02e5210f29"
      },
      "execution_count": 9,
      "outputs": [
        {
          "output_type": "stream",
          "name": "stdout",
          "text": [
            "Digite sua altura:1.65\n",
            "Digite seu peso;71\n",
            "Seu IMC é; 26.07897153351699\n"
          ]
        }
      ]
    },
    {
      "cell_type": "code",
      "source": [
        "def maior_numero(a, b):\n",
        "    if a > b:\n",
        "        return a\n",
        "    else:\n",
        "        return b\n",
        "maior_numero(10, 5)\n"
      ],
      "metadata": {
        "colab": {
          "base_uri": "https://localhost:8080/"
        },
        "id": "kHX_F6AP1Ae5",
        "outputId": "a61a151a-7d9d-4a7e-8c67-ba52efbdf890"
      },
      "execution_count": 12,
      "outputs": [
        {
          "output_type": "execute_result",
          "data": {
            "text/plain": [
              "10"
            ]
          },
          "metadata": {},
          "execution_count": 12
        }
      ]
    },
    {
      "cell_type": "code",
      "source": [
        "def somar_lista(numeros):\n",
        "    return sum(numeros)\n",
        "\n",
        "lista = [10, 20, 30, 40, 50]\n",
        "total = somar_lista(lista)\n",
        "\n",
        "print(\"a soma é :\", total)\n"
      ],
      "metadata": {
        "colab": {
          "base_uri": "https://localhost:8080/"
        },
        "id": "xwavDk1S2Ez7",
        "outputId": "2859f729-3195-4f9b-c906-050ab2064687"
      },
      "execution_count": 15,
      "outputs": [
        {
          "output_type": "stream",
          "name": "stdout",
          "text": [
            "a soma é : 150\n"
          ]
        }
      ]
    },
    {
      "cell_type": "code",
      "source": [
        "def mostrar_tabuada(numero):\n",
        "  print(f\"Tabuada do {numero}:\")\n",
        "  for i in range(1, 11):\n",
        "    resultado = numero * i\n",
        "    print(f\"{numero} x {i} = {resultado}\")\n",
        "\n",
        "mostrar_tabuada(9)"
      ],
      "metadata": {
        "id": "wIb1G5rl4qdB"
      },
      "execution_count": null,
      "outputs": []
    }
  ]
}